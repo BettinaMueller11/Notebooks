{
 "cells": [
  {
   "cell_type": "markdown",
   "metadata": {},
   "source": [
    "## AdaBoost"
   ]
  },
  {
   "cell_type": "markdown",
   "metadata": {},
   "source": [
    "## Imports"
   ]
  },
  {
   "cell_type": "markdown",
   "metadata": {},
   "source": [
    "## Algorithmus\n",
    "- Drei Grundideen:\n",
    " - AdaBoost kombiniert Weak Learner (stumps, DT mit Tiefe 1)\n",
    " - AdaBoost gewichtet Ensemble Models\n",
    " - Neue Stumps werden in Abhängigkeit von vorheringen Stumps gebildet\n",
    "\n",
    "- Iteriere: \n",
    " - Gib allen n Samples ein gleiches Gewicht 1/n\n",
    " - Trainiere einen Decision Tree mit der Tiefe 1 (Stumpf)\n",
    " - Total Error ermitteln: Summme: Fehlklassifizierung * Gewicht (Total Error Intervall: 0-1)\n",
    " - Ermittlere das Vote Gewicht des Stumpfes mit 1/2 * log ((1-Total Error) / Total Error))\n",
    " - Passe die Gewichte der Samples an\n",
    " - Gewicht für inkorrekt klassifizierte Instanzen erhöhen: weight = weight * e^Vote Gewicht des letzen Stumpfes\n",
    " - Gewicht für korrekt klassifizierte Instanzen verringern: weight = weight * e^-Vote Gewicht des letzen Stumpfes\n",
    " - Gewichte normalisieren (teile jedes Gewicht durch Summe der Gewichte)\n",
    " - Generiere einen neuen Datensatz (sample mit Gewichten der Instanzen)\n",
    " "
   ]
  },
  {
   "cell_type": "code",
   "execution_count": null,
   "metadata": {},
   "outputs": [],
   "source": []
  }
 ],
 "metadata": {
  "kernelspec": {
   "display_name": "Python 3 (ipykernel)",
   "language": "python",
   "name": "python3"
  },
  "language_info": {
   "codemirror_mode": {
    "name": "ipython",
    "version": 3
   },
   "file_extension": ".py",
   "mimetype": "text/x-python",
   "name": "python",
   "nbconvert_exporter": "python",
   "pygments_lexer": "ipython3",
   "version": "3.8.12"
  }
 },
 "nbformat": 4,
 "nbformat_minor": 4
}
